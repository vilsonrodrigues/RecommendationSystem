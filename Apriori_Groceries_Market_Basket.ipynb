{
  "nbformat": 4,
  "nbformat_minor": 0,
  "metadata": {
    "colab": {
      "name": "Apriori_Groceries_Market_Basket.ipynb",
      "provenance": [],
      "collapsed_sections": [
        "ZWpC93R6IsIE",
        "kuPmryyPrTwJ",
        "sHkBQDOZvHGM"
      ],
      "authorship_tag": "ABX9TyM30MrrDF8hXnayV41aaKd/",
      "include_colab_link": true
    },
    "kernelspec": {
      "name": "python3",
      "display_name": "Python 3"
    }
  },
  "cells": [
    {
      "cell_type": "markdown",
      "metadata": {
        "id": "view-in-github",
        "colab_type": "text"
      },
      "source": [
        "<a href=\"https://colab.research.google.com/github/vilsonrodrigues/RecommendationSystem/blob/master/Apriori_Groceries_Market_Basket.ipynb\" target=\"_parent\"><img src=\"https://colab.research.google.com/assets/colab-badge.svg\" alt=\"Open In Colab\"/></a>"
      ]
    },
    {
      "cell_type": "markdown",
      "metadata": {
        "id": "PUBvSA6nr5WY"
      },
      "source": [
        "Neste notebook, a tentativa foi usar o algoritmo apriori para prever quais são produtos são comprados juntos"
      ]
    },
    {
      "cell_type": "markdown",
      "metadata": {
        "id": "YOtFet0_IjJ5"
      },
      "source": [
        "### O algoritmo Apriori"
      ]
    },
    {
      "cell_type": "markdown",
      "metadata": {
        "id": "Wd_uHvnhIrZa"
      },
      "source": [
        "Passos:\r\n",
        "\r\n",
        "1. Calcular o suporte: contabiliza quantas vezes cada item aparece por amostra, depois dividir o montante pelo total de amostras. Definir um suporte mínimo, afim de não ficar analisando itens que vendem pouco, diminuindo o número de cálculos\r\n",
        "\r\n",
        "2. Com os itens restantes e com K = 2 agora vamos combinar os itens 2 a 2. Pega quando os 2 itens estão juntos e dividi pelo total de amostras. Novamente, com o suporte mínimo, elimina da tabela as combinações 2 a 2 que são abaixo do dele\r\n",
        "\r\n",
        "3. Agora com o K = 3, com combinações 3 a 3 com os itens que restaram da etapa anterior, contabiliza as ocorrências e divide pelo total de amostras\r\n",
        "\r\n",
        "4. Assim por diante dependendo do seu conjunto de dados\r\n",
        "\r\n",
        "5. Passo seguinte é fazer a verificação, se compra x produto, compra y + z?\r\n",
        "\r\n",
        "6. O último passo é o de Lift, onde é feito o cálculo dos dois elementos dividos pelo produto do suporte dos dois produtos. Quanto L > 1 maior a relação de compra entre os dois produto, se L < 1, menos. O Lift passa a ser interessante pois considera o volume que isso acontenceu. Se um produto vende muito faltamente ele vai ter uma correlação com vários outros que saem poucas vezes "
      ]
    },
    {
      "cell_type": "markdown",
      "metadata": {
        "id": "ZWpC93R6IsIE"
      },
      "source": [
        "### Importações"
      ]
    },
    {
      "cell_type": "markdown",
      "metadata": {
        "id": "pnz_MHKwIZQh"
      },
      "source": [
        "Libs"
      ]
    },
    {
      "cell_type": "code",
      "metadata": {
        "id": "WN4fiHNbIIMb"
      },
      "source": [
        "import pandas as pd\r\n",
        "import numpy as np\r\n",
        "import seaborn as sns\r\n",
        "#import scklearn. ..."
      ],
      "execution_count": 8,
      "outputs": []
    },
    {
      "cell_type": "markdown",
      "metadata": {
        "id": "kuPmryyPrTwJ"
      },
      "source": [
        "### Leitura e Entendimento dos Dados"
      ]
    },
    {
      "cell_type": "markdown",
      "metadata": {
        "id": "TMizLs0CrYla"
      },
      "source": [
        "A [base de dados](https://www.kaggle.com/irfanasrullah/groceries) foi extraída do Kaggle. Ela remete a compras em um supermercado. "
      ]
    },
    {
      "cell_type": "code",
      "metadata": {
        "id": "pq7wFU-nsjTP"
      },
      "source": [
        "df = pd.read_csv('/content/groceries - groceries.csv')"
      ],
      "execution_count": 16,
      "outputs": []
    },
    {
      "cell_type": "code",
      "metadata": {
        "colab": {
          "base_uri": "https://localhost:8080/",
          "height": 0
        },
        "id": "tFHdIO35tMCG",
        "outputId": "36b386fb-c4de-4238-dcf7-fb2b669a1114"
      },
      "source": [
        "df.head()"
      ],
      "execution_count": 6,
      "outputs": [
        {
          "output_type": "execute_result",
          "data": {
            "text/html": [
              "<div>\n",
              "<style scoped>\n",
              "    .dataframe tbody tr th:only-of-type {\n",
              "        vertical-align: middle;\n",
              "    }\n",
              "\n",
              "    .dataframe tbody tr th {\n",
              "        vertical-align: top;\n",
              "    }\n",
              "\n",
              "    .dataframe thead th {\n",
              "        text-align: right;\n",
              "    }\n",
              "</style>\n",
              "<table border=\"1\" class=\"dataframe\">\n",
              "  <thead>\n",
              "    <tr style=\"text-align: right;\">\n",
              "      <th></th>\n",
              "      <th>Item(s)</th>\n",
              "      <th>Item 1</th>\n",
              "      <th>Item 2</th>\n",
              "      <th>Item 3</th>\n",
              "      <th>Item 4</th>\n",
              "      <th>Item 5</th>\n",
              "      <th>Item 6</th>\n",
              "      <th>Item 7</th>\n",
              "      <th>Item 8</th>\n",
              "      <th>Item 9</th>\n",
              "      <th>Item 10</th>\n",
              "      <th>Item 11</th>\n",
              "      <th>Item 12</th>\n",
              "      <th>Item 13</th>\n",
              "      <th>Item 14</th>\n",
              "      <th>Item 15</th>\n",
              "      <th>Item 16</th>\n",
              "      <th>Item 17</th>\n",
              "      <th>Item 18</th>\n",
              "      <th>Item 19</th>\n",
              "      <th>Item 20</th>\n",
              "      <th>Item 21</th>\n",
              "      <th>Item 22</th>\n",
              "      <th>Item 23</th>\n",
              "      <th>Item 24</th>\n",
              "      <th>Item 25</th>\n",
              "      <th>Item 26</th>\n",
              "      <th>Item 27</th>\n",
              "      <th>Item 28</th>\n",
              "      <th>Item 29</th>\n",
              "      <th>Item 30</th>\n",
              "      <th>Item 31</th>\n",
              "      <th>Item 32</th>\n",
              "    </tr>\n",
              "  </thead>\n",
              "  <tbody>\n",
              "    <tr>\n",
              "      <th>0</th>\n",
              "      <td>4</td>\n",
              "      <td>citrus fruit</td>\n",
              "      <td>semi-finished bread</td>\n",
              "      <td>margarine</td>\n",
              "      <td>ready soups</td>\n",
              "      <td>NaN</td>\n",
              "      <td>NaN</td>\n",
              "      <td>NaN</td>\n",
              "      <td>NaN</td>\n",
              "      <td>NaN</td>\n",
              "      <td>NaN</td>\n",
              "      <td>NaN</td>\n",
              "      <td>NaN</td>\n",
              "      <td>NaN</td>\n",
              "      <td>NaN</td>\n",
              "      <td>NaN</td>\n",
              "      <td>NaN</td>\n",
              "      <td>NaN</td>\n",
              "      <td>NaN</td>\n",
              "      <td>NaN</td>\n",
              "      <td>NaN</td>\n",
              "      <td>NaN</td>\n",
              "      <td>NaN</td>\n",
              "      <td>NaN</td>\n",
              "      <td>NaN</td>\n",
              "      <td>NaN</td>\n",
              "      <td>NaN</td>\n",
              "      <td>NaN</td>\n",
              "      <td>NaN</td>\n",
              "      <td>NaN</td>\n",
              "      <td>NaN</td>\n",
              "      <td>NaN</td>\n",
              "      <td>NaN</td>\n",
              "    </tr>\n",
              "    <tr>\n",
              "      <th>1</th>\n",
              "      <td>3</td>\n",
              "      <td>tropical fruit</td>\n",
              "      <td>yogurt</td>\n",
              "      <td>coffee</td>\n",
              "      <td>NaN</td>\n",
              "      <td>NaN</td>\n",
              "      <td>NaN</td>\n",
              "      <td>NaN</td>\n",
              "      <td>NaN</td>\n",
              "      <td>NaN</td>\n",
              "      <td>NaN</td>\n",
              "      <td>NaN</td>\n",
              "      <td>NaN</td>\n",
              "      <td>NaN</td>\n",
              "      <td>NaN</td>\n",
              "      <td>NaN</td>\n",
              "      <td>NaN</td>\n",
              "      <td>NaN</td>\n",
              "      <td>NaN</td>\n",
              "      <td>NaN</td>\n",
              "      <td>NaN</td>\n",
              "      <td>NaN</td>\n",
              "      <td>NaN</td>\n",
              "      <td>NaN</td>\n",
              "      <td>NaN</td>\n",
              "      <td>NaN</td>\n",
              "      <td>NaN</td>\n",
              "      <td>NaN</td>\n",
              "      <td>NaN</td>\n",
              "      <td>NaN</td>\n",
              "      <td>NaN</td>\n",
              "      <td>NaN</td>\n",
              "      <td>NaN</td>\n",
              "    </tr>\n",
              "    <tr>\n",
              "      <th>2</th>\n",
              "      <td>1</td>\n",
              "      <td>whole milk</td>\n",
              "      <td>NaN</td>\n",
              "      <td>NaN</td>\n",
              "      <td>NaN</td>\n",
              "      <td>NaN</td>\n",
              "      <td>NaN</td>\n",
              "      <td>NaN</td>\n",
              "      <td>NaN</td>\n",
              "      <td>NaN</td>\n",
              "      <td>NaN</td>\n",
              "      <td>NaN</td>\n",
              "      <td>NaN</td>\n",
              "      <td>NaN</td>\n",
              "      <td>NaN</td>\n",
              "      <td>NaN</td>\n",
              "      <td>NaN</td>\n",
              "      <td>NaN</td>\n",
              "      <td>NaN</td>\n",
              "      <td>NaN</td>\n",
              "      <td>NaN</td>\n",
              "      <td>NaN</td>\n",
              "      <td>NaN</td>\n",
              "      <td>NaN</td>\n",
              "      <td>NaN</td>\n",
              "      <td>NaN</td>\n",
              "      <td>NaN</td>\n",
              "      <td>NaN</td>\n",
              "      <td>NaN</td>\n",
              "      <td>NaN</td>\n",
              "      <td>NaN</td>\n",
              "      <td>NaN</td>\n",
              "      <td>NaN</td>\n",
              "    </tr>\n",
              "    <tr>\n",
              "      <th>3</th>\n",
              "      <td>4</td>\n",
              "      <td>pip fruit</td>\n",
              "      <td>yogurt</td>\n",
              "      <td>cream cheese</td>\n",
              "      <td>meat spreads</td>\n",
              "      <td>NaN</td>\n",
              "      <td>NaN</td>\n",
              "      <td>NaN</td>\n",
              "      <td>NaN</td>\n",
              "      <td>NaN</td>\n",
              "      <td>NaN</td>\n",
              "      <td>NaN</td>\n",
              "      <td>NaN</td>\n",
              "      <td>NaN</td>\n",
              "      <td>NaN</td>\n",
              "      <td>NaN</td>\n",
              "      <td>NaN</td>\n",
              "      <td>NaN</td>\n",
              "      <td>NaN</td>\n",
              "      <td>NaN</td>\n",
              "      <td>NaN</td>\n",
              "      <td>NaN</td>\n",
              "      <td>NaN</td>\n",
              "      <td>NaN</td>\n",
              "      <td>NaN</td>\n",
              "      <td>NaN</td>\n",
              "      <td>NaN</td>\n",
              "      <td>NaN</td>\n",
              "      <td>NaN</td>\n",
              "      <td>NaN</td>\n",
              "      <td>NaN</td>\n",
              "      <td>NaN</td>\n",
              "      <td>NaN</td>\n",
              "    </tr>\n",
              "    <tr>\n",
              "      <th>4</th>\n",
              "      <td>4</td>\n",
              "      <td>other vegetables</td>\n",
              "      <td>whole milk</td>\n",
              "      <td>condensed milk</td>\n",
              "      <td>long life bakery product</td>\n",
              "      <td>NaN</td>\n",
              "      <td>NaN</td>\n",
              "      <td>NaN</td>\n",
              "      <td>NaN</td>\n",
              "      <td>NaN</td>\n",
              "      <td>NaN</td>\n",
              "      <td>NaN</td>\n",
              "      <td>NaN</td>\n",
              "      <td>NaN</td>\n",
              "      <td>NaN</td>\n",
              "      <td>NaN</td>\n",
              "      <td>NaN</td>\n",
              "      <td>NaN</td>\n",
              "      <td>NaN</td>\n",
              "      <td>NaN</td>\n",
              "      <td>NaN</td>\n",
              "      <td>NaN</td>\n",
              "      <td>NaN</td>\n",
              "      <td>NaN</td>\n",
              "      <td>NaN</td>\n",
              "      <td>NaN</td>\n",
              "      <td>NaN</td>\n",
              "      <td>NaN</td>\n",
              "      <td>NaN</td>\n",
              "      <td>NaN</td>\n",
              "      <td>NaN</td>\n",
              "      <td>NaN</td>\n",
              "      <td>NaN</td>\n",
              "    </tr>\n",
              "  </tbody>\n",
              "</table>\n",
              "</div>"
            ],
            "text/plain": [
              "   Item(s)            Item 1               Item 2  ... Item 30 Item 31 Item 32\n",
              "0        4      citrus fruit  semi-finished bread  ...     NaN     NaN     NaN\n",
              "1        3    tropical fruit               yogurt  ...     NaN     NaN     NaN\n",
              "2        1        whole milk                  NaN  ...     NaN     NaN     NaN\n",
              "3        4         pip fruit               yogurt  ...     NaN     NaN     NaN\n",
              "4        4  other vegetables           whole milk  ...     NaN     NaN     NaN\n",
              "\n",
              "[5 rows x 33 columns]"
            ]
          },
          "metadata": {
            "tags": []
          },
          "execution_count": 6
        }
      ]
    },
    {
      "cell_type": "markdown",
      "metadata": {
        "id": "4Mo7WY_UuMyC"
      },
      "source": [
        "Dataset com 9835 amostras e segundo a descrição no Kaggle, 169 produtos únicos. A primeira coluna contêm o número de produtos na compra. As compras tem até 32 itens em uma mesma feira\r\n",
        "\r\n",
        "Existe muitos NaNs já que não são todas as compras com 32 itens, necessário tirar"
      ]
    },
    {
      "cell_type": "code",
      "metadata": {
        "colab": {
          "base_uri": "https://localhost:8080/"
        },
        "id": "0nx3SpArtPdP",
        "outputId": "cac9f877-9b66-46ba-dae3-76d1f49ee6e7"
      },
      "source": [
        "df.info()"
      ],
      "execution_count": 7,
      "outputs": [
        {
          "output_type": "stream",
          "text": [
            "<class 'pandas.core.frame.DataFrame'>\n",
            "RangeIndex: 9835 entries, 0 to 9834\n",
            "Data columns (total 33 columns):\n",
            " #   Column   Non-Null Count  Dtype \n",
            "---  ------   --------------  ----- \n",
            " 0   Item(s)  9835 non-null   int64 \n",
            " 1   Item 1   9835 non-null   object\n",
            " 2   Item 2   7676 non-null   object\n",
            " 3   Item 3   6033 non-null   object\n",
            " 4   Item 4   4734 non-null   object\n",
            " 5   Item 5   3729 non-null   object\n",
            " 6   Item 6   2874 non-null   object\n",
            " 7   Item 7   2229 non-null   object\n",
            " 8   Item 8   1684 non-null   object\n",
            " 9   Item 9   1246 non-null   object\n",
            " 10  Item 10  896 non-null    object\n",
            " 11  Item 11  650 non-null    object\n",
            " 12  Item 12  468 non-null    object\n",
            " 13  Item 13  351 non-null    object\n",
            " 14  Item 14  273 non-null    object\n",
            " 15  Item 15  196 non-null    object\n",
            " 16  Item 16  141 non-null    object\n",
            " 17  Item 17  95 non-null     object\n",
            " 18  Item 18  66 non-null     object\n",
            " 19  Item 19  52 non-null     object\n",
            " 20  Item 20  38 non-null     object\n",
            " 21  Item 21  29 non-null     object\n",
            " 22  Item 22  18 non-null     object\n",
            " 23  Item 23  14 non-null     object\n",
            " 24  Item 24  8 non-null      object\n",
            " 25  Item 25  7 non-null      object\n",
            " 26  Item 26  7 non-null      object\n",
            " 27  Item 27  6 non-null      object\n",
            " 28  Item 28  5 non-null      object\n",
            " 29  Item 29  4 non-null      object\n",
            " 30  Item 30  1 non-null      object\n",
            " 31  Item 31  1 non-null      object\n",
            " 32  Item 32  1 non-null      object\n",
            "dtypes: int64(1), object(32)\n",
            "memory usage: 2.5+ MB\n"
          ],
          "name": "stdout"
        }
      ]
    },
    {
      "cell_type": "markdown",
      "metadata": {
        "id": "sHkBQDOZvHGM"
      },
      "source": [
        "### Visualização de dados"
      ]
    },
    {
      "cell_type": "markdown",
      "metadata": {
        "id": "vdtFww2-vJy-"
      },
      "source": [
        "Com o violiplot podemos ver que a maioria das compras está feita com poucos itens, sendo raras as ocorrências com mais de 20"
      ]
    },
    {
      "cell_type": "code",
      "metadata": {
        "colab": {
          "base_uri": "https://localhost:8080/",
          "height": 0
        },
        "id": "uf4KqBTzwYvL",
        "outputId": "d8c0e6a6-593c-46af-c1c0-76557f9c964f"
      },
      "source": [
        "sns.violinplot(data = df['Item(s)'], palette=\"Set3\", bw=.2, cut=1, linewidth=1)"
      ],
      "execution_count": 10,
      "outputs": [
        {
          "output_type": "execute_result",
          "data": {
            "text/plain": [
              "<matplotlib.axes._subplots.AxesSubplot at 0x7fea1537f278>"
            ]
          },
          "metadata": {
            "tags": []
          },
          "execution_count": 10
        },
        {
          "output_type": "display_data",
          "data": {
            "image/png": "[encoded data removed]",
            "text/plain": [
              "<Figure size 432x288 with 1 Axes>"
            ]
          },
          "metadata": {
            "tags": [],
            "needs_background": "light"
          }
        }
      ]
    },
    {
      "cell_type": "markdown",
      "metadata": {
        "id": "wmFdfiG6Ih-_"
      },
      "source": [
        "### Pré-Processamento"
      ]
    },
    {
      "cell_type": "markdown",
      "metadata": {
        "id": "_JHeTIfcxbfi"
      },
      "source": [
        "Substituindo o NaN por 0"
      ]
    },
    {
      "cell_type": "code",
      "metadata": {
        "id": "Dh8L6bn5Igpv"
      },
      "source": [
        "df = df.fillna(0)"
      ],
      "execution_count": 18,
      "outputs": []
    },
    {
      "cell_type": "code",
      "metadata": {
        "colab": {
          "base_uri": "https://localhost:8080/",
          "height": 162
        },
        "id": "m9umtrVByrwI",
        "outputId": "8e248098-f362-4cb6-9773-da93485fcf73"
      },
      "source": [
        "df.head(2)"
      ],
      "execution_count": 19,
      "outputs": [
        {
          "output_type": "execute_result",
          "data": {
            "text/html": [
              "<div>\n",
              "<style scoped>\n",
              "    .dataframe tbody tr th:only-of-type {\n",
              "        vertical-align: middle;\n",
              "    }\n",
              "\n",
              "    .dataframe tbody tr th {\n",
              "        vertical-align: top;\n",
              "    }\n",
              "\n",
              "    .dataframe thead th {\n",
              "        text-align: right;\n",
              "    }\n",
              "</style>\n",
              "<table border=\"1\" class=\"dataframe\">\n",
              "  <thead>\n",
              "    <tr style=\"text-align: right;\">\n",
              "      <th></th>\n",
              "      <th>Item(s)</th>\n",
              "      <th>Item 1</th>\n",
              "      <th>Item 2</th>\n",
              "      <th>Item 3</th>\n",
              "      <th>Item 4</th>\n",
              "      <th>Item 5</th>\n",
              "      <th>Item 6</th>\n",
              "      <th>Item 7</th>\n",
              "      <th>Item 8</th>\n",
              "      <th>Item 9</th>\n",
              "      <th>Item 10</th>\n",
              "      <th>Item 11</th>\n",
              "      <th>Item 12</th>\n",
              "      <th>Item 13</th>\n",
              "      <th>Item 14</th>\n",
              "      <th>Item 15</th>\n",
              "      <th>Item 16</th>\n",
              "      <th>Item 17</th>\n",
              "      <th>Item 18</th>\n",
              "      <th>Item 19</th>\n",
              "      <th>Item 20</th>\n",
              "      <th>Item 21</th>\n",
              "      <th>Item 22</th>\n",
              "      <th>Item 23</th>\n",
              "      <th>Item 24</th>\n",
              "      <th>Item 25</th>\n",
              "      <th>Item 26</th>\n",
              "      <th>Item 27</th>\n",
              "      <th>Item 28</th>\n",
              "      <th>Item 29</th>\n",
              "      <th>Item 30</th>\n",
              "      <th>Item 31</th>\n",
              "      <th>Item 32</th>\n",
              "    </tr>\n",
              "  </thead>\n",
              "  <tbody>\n",
              "    <tr>\n",
              "      <th>0</th>\n",
              "      <td>4</td>\n",
              "      <td>citrus fruit</td>\n",
              "      <td>semi-finished bread</td>\n",
              "      <td>margarine</td>\n",
              "      <td>ready soups</td>\n",
              "      <td>0</td>\n",
              "      <td>0</td>\n",
              "      <td>0</td>\n",
              "      <td>0</td>\n",
              "      <td>0</td>\n",
              "      <td>0</td>\n",
              "      <td>0</td>\n",
              "      <td>0</td>\n",
              "      <td>0</td>\n",
              "      <td>0</td>\n",
              "      <td>0</td>\n",
              "      <td>0</td>\n",
              "      <td>0</td>\n",
              "      <td>0</td>\n",
              "      <td>0</td>\n",
              "      <td>0</td>\n",
              "      <td>0</td>\n",
              "      <td>0</td>\n",
              "      <td>0</td>\n",
              "      <td>0</td>\n",
              "      <td>0</td>\n",
              "      <td>0</td>\n",
              "      <td>0</td>\n",
              "      <td>0</td>\n",
              "      <td>0</td>\n",
              "      <td>0</td>\n",
              "      <td>0</td>\n",
              "      <td>0</td>\n",
              "    </tr>\n",
              "    <tr>\n",
              "      <th>1</th>\n",
              "      <td>3</td>\n",
              "      <td>tropical fruit</td>\n",
              "      <td>yogurt</td>\n",
              "      <td>coffee</td>\n",
              "      <td>0</td>\n",
              "      <td>0</td>\n",
              "      <td>0</td>\n",
              "      <td>0</td>\n",
              "      <td>0</td>\n",
              "      <td>0</td>\n",
              "      <td>0</td>\n",
              "      <td>0</td>\n",
              "      <td>0</td>\n",
              "      <td>0</td>\n",
              "      <td>0</td>\n",
              "      <td>0</td>\n",
              "      <td>0</td>\n",
              "      <td>0</td>\n",
              "      <td>0</td>\n",
              "      <td>0</td>\n",
              "      <td>0</td>\n",
              "      <td>0</td>\n",
              "      <td>0</td>\n",
              "      <td>0</td>\n",
              "      <td>0</td>\n",
              "      <td>0</td>\n",
              "      <td>0</td>\n",
              "      <td>0</td>\n",
              "      <td>0</td>\n",
              "      <td>0</td>\n",
              "      <td>0</td>\n",
              "      <td>0</td>\n",
              "      <td>0</td>\n",
              "    </tr>\n",
              "  </tbody>\n",
              "</table>\n",
              "</div>"
            ],
            "text/plain": [
              "   Item(s)          Item 1               Item 2  ... Item 30 Item 31 Item 32\n",
              "0        4    citrus fruit  semi-finished bread  ...       0       0       0\n",
              "1        3  tropical fruit               yogurt  ...       0       0       0\n",
              "\n",
              "[2 rows x 33 columns]"
            ]
          },
          "metadata": {
            "tags": []
          },
          "execution_count": 19
        }
      ]
    },
    {
      "cell_type": "markdown",
      "metadata": {
        "id": "j9wiPfhc-YXy"
      },
      "source": [
        "Apagando a coluna de total de itens, se torna desncessária"
      ]
    },
    {
      "cell_type": "code",
      "metadata": {
        "id": "oDc6ogGZ-XWE"
      },
      "source": [
        "df2 = df.iloc[:,1:].copy()"
      ],
      "execution_count": 49,
      "outputs": []
    },
    {
      "cell_type": "code",
      "metadata": {
        "colab": {
          "base_uri": "https://localhost:8080/",
          "height": 162
        },
        "id": "k589PDyyDPG0",
        "outputId": "3cb5eb19-5fee-44f7-8672-8da8cbd308bc"
      },
      "source": [
        "df2.head(2)"
      ],
      "execution_count": 50,
      "outputs": [
        {
          "output_type": "execute_result",
          "data": {
            "text/html": [
              "<div>\n",
              "<style scoped>\n",
              "    .dataframe tbody tr th:only-of-type {\n",
              "        vertical-align: middle;\n",
              "    }\n",
              "\n",
              "    .dataframe tbody tr th {\n",
              "        vertical-align: top;\n",
              "    }\n",
              "\n",
              "    .dataframe thead th {\n",
              "        text-align: right;\n",
              "    }\n",
              "</style>\n",
              "<table border=\"1\" class=\"dataframe\">\n",
              "  <thead>\n",
              "    <tr style=\"text-align: right;\">\n",
              "      <th></th>\n",
              "      <th>Item 1</th>\n",
              "      <th>Item 2</th>\n",
              "      <th>Item 3</th>\n",
              "      <th>Item 4</th>\n",
              "      <th>Item 5</th>\n",
              "      <th>Item 6</th>\n",
              "      <th>Item 7</th>\n",
              "      <th>Item 8</th>\n",
              "      <th>Item 9</th>\n",
              "      <th>Item 10</th>\n",
              "      <th>Item 11</th>\n",
              "      <th>Item 12</th>\n",
              "      <th>Item 13</th>\n",
              "      <th>Item 14</th>\n",
              "      <th>Item 15</th>\n",
              "      <th>Item 16</th>\n",
              "      <th>Item 17</th>\n",
              "      <th>Item 18</th>\n",
              "      <th>Item 19</th>\n",
              "      <th>Item 20</th>\n",
              "      <th>Item 21</th>\n",
              "      <th>Item 22</th>\n",
              "      <th>Item 23</th>\n",
              "      <th>Item 24</th>\n",
              "      <th>Item 25</th>\n",
              "      <th>Item 26</th>\n",
              "      <th>Item 27</th>\n",
              "      <th>Item 28</th>\n",
              "      <th>Item 29</th>\n",
              "      <th>Item 30</th>\n",
              "      <th>Item 31</th>\n",
              "      <th>Item 32</th>\n",
              "    </tr>\n",
              "  </thead>\n",
              "  <tbody>\n",
              "    <tr>\n",
              "      <th>0</th>\n",
              "      <td>citrus fruit</td>\n",
              "      <td>semi-finished bread</td>\n",
              "      <td>margarine</td>\n",
              "      <td>ready soups</td>\n",
              "      <td>0</td>\n",
              "      <td>0</td>\n",
              "      <td>0</td>\n",
              "      <td>0</td>\n",
              "      <td>0</td>\n",
              "      <td>0</td>\n",
              "      <td>0</td>\n",
              "      <td>0</td>\n",
              "      <td>0</td>\n",
              "      <td>0</td>\n",
              "      <td>0</td>\n",
              "      <td>0</td>\n",
              "      <td>0</td>\n",
              "      <td>0</td>\n",
              "      <td>0</td>\n",
              "      <td>0</td>\n",
              "      <td>0</td>\n",
              "      <td>0</td>\n",
              "      <td>0</td>\n",
              "      <td>0</td>\n",
              "      <td>0</td>\n",
              "      <td>0</td>\n",
              "      <td>0</td>\n",
              "      <td>0</td>\n",
              "      <td>0</td>\n",
              "      <td>0</td>\n",
              "      <td>0</td>\n",
              "      <td>0</td>\n",
              "    </tr>\n",
              "    <tr>\n",
              "      <th>1</th>\n",
              "      <td>tropical fruit</td>\n",
              "      <td>yogurt</td>\n",
              "      <td>coffee</td>\n",
              "      <td>0</td>\n",
              "      <td>0</td>\n",
              "      <td>0</td>\n",
              "      <td>0</td>\n",
              "      <td>0</td>\n",
              "      <td>0</td>\n",
              "      <td>0</td>\n",
              "      <td>0</td>\n",
              "      <td>0</td>\n",
              "      <td>0</td>\n",
              "      <td>0</td>\n",
              "      <td>0</td>\n",
              "      <td>0</td>\n",
              "      <td>0</td>\n",
              "      <td>0</td>\n",
              "      <td>0</td>\n",
              "      <td>0</td>\n",
              "      <td>0</td>\n",
              "      <td>0</td>\n",
              "      <td>0</td>\n",
              "      <td>0</td>\n",
              "      <td>0</td>\n",
              "      <td>0</td>\n",
              "      <td>0</td>\n",
              "      <td>0</td>\n",
              "      <td>0</td>\n",
              "      <td>0</td>\n",
              "      <td>0</td>\n",
              "      <td>0</td>\n",
              "    </tr>\n",
              "  </tbody>\n",
              "</table>\n",
              "</div>"
            ],
            "text/plain": [
              "           Item 1               Item 2     Item 3  ... Item 30 Item 31 Item 32\n",
              "0    citrus fruit  semi-finished bread  margarine  ...       0       0       0\n",
              "1  tropical fruit               yogurt     coffee  ...       0       0       0\n",
              "\n",
              "[2 rows x 32 columns]"
            ]
          },
          "metadata": {
            "tags": []
          },
          "execution_count": 50
        }
      ]
    },
    {
      "cell_type": "markdown",
      "metadata": {
        "id": "R5dSwbAw9FnM"
      },
      "source": [
        "Convertendo o dataframe em lista para deixar de considerar os 0s em compras que não tem 32 itens"
      ]
    },
    {
      "cell_type": "code",
      "metadata": {
        "id": "BGeMBfH88VuG"
      },
      "source": [
        "list_itens = df2.values.tolist()"
      ],
      "execution_count": 73,
      "outputs": []
    },
    {
      "cell_type": "markdown",
      "metadata": {
        "id": "1-ER_o4OH1fT"
      },
      "source": [
        "Excluindo os 0s"
      ]
    },
    {
      "cell_type": "code",
      "metadata": {
        "id": "6mO9A2qjH0Eq"
      },
      "source": [
        "list_sales = []\r\n",
        "for lista in list_itens:\r\n",
        "  list_sales.append(list(filter(lambda x: x != 0, lista)))  "
      ],
      "execution_count": 76,
      "outputs": []
    },
    {
      "cell_type": "code",
      "metadata": {
        "colab": {
          "base_uri": "https://localhost:8080/"
        },
        "id": "Fn5WuIjHGw2J",
        "outputId": "09f0be23-f00c-415f-8f16-31d9e5bbeb99"
      },
      "source": [
        "list_sales[0]"
      ],
      "execution_count": 78,
      "outputs": [
        {
          "output_type": "execute_result",
          "data": {
            "text/plain": [
              "['citrus fruit', 'semi-finished bread', 'margarine', 'ready soups']"
            ]
          },
          "metadata": {
            "tags": []
          },
          "execution_count": 78
        }
      ]
    },
    {
      "cell_type": "markdown",
      "metadata": {
        "id": "kSXzN3kSI5zC"
      },
      "source": [
        "### MLXTEND"
      ]
    },
    {
      "cell_type": "markdown",
      "metadata": {
        "id": "hNBtIsCjJDuT"
      },
      "source": [
        "Instalando MLxtend"
      ]
    },
    {
      "cell_type": "code",
      "metadata": {
        "id": "kDQ6fOC_JBmy"
      },
      "source": [
        "!pip install mlxtend"
      ],
      "execution_count": null,
      "outputs": []
    },
    {
      "cell_type": "markdown",
      "metadata": {
        "id": "bsoY5kcyJfmE"
      },
      "source": [
        "Importando o encoder da mlxtend"
      ]
    },
    {
      "cell_type": "code",
      "metadata": {
        "id": "CXpD2vLGKTDz"
      },
      "source": [
        "from mlxtend.preprocessing import TransactionEncoder"
      ],
      "execution_count": 83,
      "outputs": []
    },
    {
      "cell_type": "code",
      "metadata": {
        "id": "Zy5pGx59LL5c"
      },
      "source": [
        "te = TransactionEncoder()"
      ],
      "execution_count": 84,
      "outputs": []
    },
    {
      "cell_type": "markdown",
      "metadata": {
        "id": "6h_r80LOLzNY"
      },
      "source": [
        "Aplicando o encoder. Onde agora, cada instancia de produto virará uma coluna que terá 1 se ocorrer nessa compra e 0 se não"
      ]
    },
    {
      "cell_type": "code",
      "metadata": {
        "id": "_PiDoR6tLPDS"
      },
      "source": [
        "te_ary = te.fit(list_sales).transform(list_sales)"
      ],
      "execution_count": 85,
      "outputs": []
    },
    {
      "cell_type": "code",
      "metadata": {
        "colab": {
          "base_uri": "https://localhost:8080/"
        },
        "id": "1v5HzzrJMYL6",
        "outputId": "c38f7f34-a357-498b-e0af-262a81a4f59b"
      },
      "source": [
        "te_ary"
      ],
      "execution_count": 86,
      "outputs": [
        {
          "output_type": "execute_result",
          "data": {
            "text/plain": [
              "array([[False, False, False, ..., False, False, False],\n",
              "       [False, False, False, ..., False,  True, False],\n",
              "       [False, False, False, ...,  True, False, False],\n",
              "       ...,\n",
              "       [False, False, False, ..., False,  True, False],\n",
              "       [False, False, False, ..., False, False, False],\n",
              "       [False, False, False, ..., False, False, False]])"
            ]
          },
          "metadata": {
            "tags": []
          },
          "execution_count": 86
        }
      ]
    },
    {
      "cell_type": "markdown",
      "metadata": {
        "id": "uBVaBYH9Mx6c"
      },
      "source": [
        "Voltando para dataframe"
      ]
    },
    {
      "cell_type": "code",
      "metadata": {
        "colab": {
          "base_uri": "https://localhost:8080/",
          "height": 287
        },
        "id": "uoqiM-6-Mao_",
        "outputId": "1287e220-5db2-4c45-c7aa-5d7659985f6a"
      },
      "source": [
        "df_sales = pd.DataFrame(te_ary, columns = te.columns_)\r\n",
        "df_sales.head()"
      ],
      "execution_count": 87,
      "outputs": [
        {
          "output_type": "execute_result",
          "data": {
            "text/html": [
              "<div>\n",
              "<style scoped>\n",
              "    .dataframe tbody tr th:only-of-type {\n",
              "        vertical-align: middle;\n",
              "    }\n",
              "\n",
              "    .dataframe tbody tr th {\n",
              "        vertical-align: top;\n",
              "    }\n",
              "\n",
              "    .dataframe thead th {\n",
              "        text-align: right;\n",
              "    }\n",
              "</style>\n",
              "<table border=\"1\" class=\"dataframe\">\n",
              "  <thead>\n",
              "    <tr style=\"text-align: right;\">\n",
              "      <th></th>\n",
              "      <th>Instant food products</th>\n",
              "      <th>UHT-milk</th>\n",
              "      <th>abrasive cleaner</th>\n",
              "      <th>artif. sweetener</th>\n",
              "      <th>baby cosmetics</th>\n",
              "      <th>baby food</th>\n",
              "      <th>bags</th>\n",
              "      <th>baking powder</th>\n",
              "      <th>bathroom cleaner</th>\n",
              "      <th>beef</th>\n",
              "      <th>berries</th>\n",
              "      <th>beverages</th>\n",
              "      <th>bottled beer</th>\n",
              "      <th>bottled water</th>\n",
              "      <th>brandy</th>\n",
              "      <th>brown bread</th>\n",
              "      <th>butter</th>\n",
              "      <th>butter milk</th>\n",
              "      <th>cake bar</th>\n",
              "      <th>candles</th>\n",
              "      <th>candy</th>\n",
              "      <th>canned beer</th>\n",
              "      <th>canned fish</th>\n",
              "      <th>canned fruit</th>\n",
              "      <th>canned vegetables</th>\n",
              "      <th>cat food</th>\n",
              "      <th>cereals</th>\n",
              "      <th>chewing gum</th>\n",
              "      <th>chicken</th>\n",
              "      <th>chocolate</th>\n",
              "      <th>chocolate marshmallow</th>\n",
              "      <th>citrus fruit</th>\n",
              "      <th>cleaner</th>\n",
              "      <th>cling film/bags</th>\n",
              "      <th>cocoa drinks</th>\n",
              "      <th>coffee</th>\n",
              "      <th>condensed milk</th>\n",
              "      <th>cooking chocolate</th>\n",
              "      <th>cookware</th>\n",
              "      <th>cream</th>\n",
              "      <th>...</th>\n",
              "      <th>salty snack</th>\n",
              "      <th>sauces</th>\n",
              "      <th>sausage</th>\n",
              "      <th>seasonal products</th>\n",
              "      <th>semi-finished bread</th>\n",
              "      <th>shopping bags</th>\n",
              "      <th>skin care</th>\n",
              "      <th>sliced cheese</th>\n",
              "      <th>snack products</th>\n",
              "      <th>soap</th>\n",
              "      <th>soda</th>\n",
              "      <th>soft cheese</th>\n",
              "      <th>softener</th>\n",
              "      <th>sound storage medium</th>\n",
              "      <th>soups</th>\n",
              "      <th>sparkling wine</th>\n",
              "      <th>specialty bar</th>\n",
              "      <th>specialty cheese</th>\n",
              "      <th>specialty chocolate</th>\n",
              "      <th>specialty fat</th>\n",
              "      <th>specialty vegetables</th>\n",
              "      <th>spices</th>\n",
              "      <th>spread cheese</th>\n",
              "      <th>sugar</th>\n",
              "      <th>sweet spreads</th>\n",
              "      <th>syrup</th>\n",
              "      <th>tea</th>\n",
              "      <th>tidbits</th>\n",
              "      <th>toilet cleaner</th>\n",
              "      <th>tropical fruit</th>\n",
              "      <th>turkey</th>\n",
              "      <th>vinegar</th>\n",
              "      <th>waffles</th>\n",
              "      <th>whipped/sour cream</th>\n",
              "      <th>whisky</th>\n",
              "      <th>white bread</th>\n",
              "      <th>white wine</th>\n",
              "      <th>whole milk</th>\n",
              "      <th>yogurt</th>\n",
              "      <th>zwieback</th>\n",
              "    </tr>\n",
              "  </thead>\n",
              "  <tbody>\n",
              "    <tr>\n",
              "      <th>0</th>\n",
              "      <td>False</td>\n",
              "      <td>False</td>\n",
              "      <td>False</td>\n",
              "      <td>False</td>\n",
              "      <td>False</td>\n",
              "      <td>False</td>\n",
              "      <td>False</td>\n",
              "      <td>False</td>\n",
              "      <td>False</td>\n",
              "      <td>False</td>\n",
              "      <td>False</td>\n",
              "      <td>False</td>\n",
              "      <td>False</td>\n",
              "      <td>False</td>\n",
              "      <td>False</td>\n",
              "      <td>False</td>\n",
              "      <td>False</td>\n",
              "      <td>False</td>\n",
              "      <td>False</td>\n",
              "      <td>False</td>\n",
              "      <td>False</td>\n",
              "      <td>False</td>\n",
              "      <td>False</td>\n",
              "      <td>False</td>\n",
              "      <td>False</td>\n",
              "      <td>False</td>\n",
              "      <td>False</td>\n",
              "      <td>False</td>\n",
              "      <td>False</td>\n",
              "      <td>False</td>\n",
              "      <td>False</td>\n",
              "      <td>True</td>\n",
              "      <td>False</td>\n",
              "      <td>False</td>\n",
              "      <td>False</td>\n",
              "      <td>False</td>\n",
              "      <td>False</td>\n",
              "      <td>False</td>\n",
              "      <td>False</td>\n",
              "      <td>False</td>\n",
              "      <td>...</td>\n",
              "      <td>False</td>\n",
              "      <td>False</td>\n",
              "      <td>False</td>\n",
              "      <td>False</td>\n",
              "      <td>True</td>\n",
              "      <td>False</td>\n",
              "      <td>False</td>\n",
              "      <td>False</td>\n",
              "      <td>False</td>\n",
              "      <td>False</td>\n",
              "      <td>False</td>\n",
              "      <td>False</td>\n",
              "      <td>False</td>\n",
              "      <td>False</td>\n",
              "      <td>False</td>\n",
              "      <td>False</td>\n",
              "      <td>False</td>\n",
              "      <td>False</td>\n",
              "      <td>False</td>\n",
              "      <td>False</td>\n",
              "      <td>False</td>\n",
              "      <td>False</td>\n",
              "      <td>False</td>\n",
              "      <td>False</td>\n",
              "      <td>False</td>\n",
              "      <td>False</td>\n",
              "      <td>False</td>\n",
              "      <td>False</td>\n",
              "      <td>False</td>\n",
              "      <td>False</td>\n",
              "      <td>False</td>\n",
              "      <td>False</td>\n",
              "      <td>False</td>\n",
              "      <td>False</td>\n",
              "      <td>False</td>\n",
              "      <td>False</td>\n",
              "      <td>False</td>\n",
              "      <td>False</td>\n",
              "      <td>False</td>\n",
              "      <td>False</td>\n",
              "    </tr>\n",
              "    <tr>\n",
              "      <th>1</th>\n",
              "      <td>False</td>\n",
              "      <td>False</td>\n",
              "      <td>False</td>\n",
              "      <td>False</td>\n",
              "      <td>False</td>\n",
              "      <td>False</td>\n",
              "      <td>False</td>\n",
              "      <td>False</td>\n",
              "      <td>False</td>\n",
              "      <td>False</td>\n",
              "      <td>False</td>\n",
              "      <td>False</td>\n",
              "      <td>False</td>\n",
              "      <td>False</td>\n",
              "      <td>False</td>\n",
              "      <td>False</td>\n",
              "      <td>False</td>\n",
              "      <td>False</td>\n",
              "      <td>False</td>\n",
              "      <td>False</td>\n",
              "      <td>False</td>\n",
              "      <td>False</td>\n",
              "      <td>False</td>\n",
              "      <td>False</td>\n",
              "      <td>False</td>\n",
              "      <td>False</td>\n",
              "      <td>False</td>\n",
              "      <td>False</td>\n",
              "      <td>False</td>\n",
              "      <td>False</td>\n",
              "      <td>False</td>\n",
              "      <td>False</td>\n",
              "      <td>False</td>\n",
              "      <td>False</td>\n",
              "      <td>False</td>\n",
              "      <td>True</td>\n",
              "      <td>False</td>\n",
              "      <td>False</td>\n",
              "      <td>False</td>\n",
              "      <td>False</td>\n",
              "      <td>...</td>\n",
              "      <td>False</td>\n",
              "      <td>False</td>\n",
              "      <td>False</td>\n",
              "      <td>False</td>\n",
              "      <td>False</td>\n",
              "      <td>False</td>\n",
              "      <td>False</td>\n",
              "      <td>False</td>\n",
              "      <td>False</td>\n",
              "      <td>False</td>\n",
              "      <td>False</td>\n",
              "      <td>False</td>\n",
              "      <td>False</td>\n",
              "      <td>False</td>\n",
              "      <td>False</td>\n",
              "      <td>False</td>\n",
              "      <td>False</td>\n",
              "      <td>False</td>\n",
              "      <td>False</td>\n",
              "      <td>False</td>\n",
              "      <td>False</td>\n",
              "      <td>False</td>\n",
              "      <td>False</td>\n",
              "      <td>False</td>\n",
              "      <td>False</td>\n",
              "      <td>False</td>\n",
              "      <td>False</td>\n",
              "      <td>False</td>\n",
              "      <td>False</td>\n",
              "      <td>True</td>\n",
              "      <td>False</td>\n",
              "      <td>False</td>\n",
              "      <td>False</td>\n",
              "      <td>False</td>\n",
              "      <td>False</td>\n",
              "      <td>False</td>\n",
              "      <td>False</td>\n",
              "      <td>False</td>\n",
              "      <td>True</td>\n",
              "      <td>False</td>\n",
              "    </tr>\n",
              "    <tr>\n",
              "      <th>2</th>\n",
              "      <td>False</td>\n",
              "      <td>False</td>\n",
              "      <td>False</td>\n",
              "      <td>False</td>\n",
              "      <td>False</td>\n",
              "      <td>False</td>\n",
              "      <td>False</td>\n",
              "      <td>False</td>\n",
              "      <td>False</td>\n",
              "      <td>False</td>\n",
              "      <td>False</td>\n",
              "      <td>False</td>\n",
              "      <td>False</td>\n",
              "      <td>False</td>\n",
              "      <td>False</td>\n",
              "      <td>False</td>\n",
              "      <td>False</td>\n",
              "      <td>False</td>\n",
              "      <td>False</td>\n",
              "      <td>False</td>\n",
              "      <td>False</td>\n",
              "      <td>False</td>\n",
              "      <td>False</td>\n",
              "      <td>False</td>\n",
              "      <td>False</td>\n",
              "      <td>False</td>\n",
              "      <td>False</td>\n",
              "      <td>False</td>\n",
              "      <td>False</td>\n",
              "      <td>False</td>\n",
              "      <td>False</td>\n",
              "      <td>False</td>\n",
              "      <td>False</td>\n",
              "      <td>False</td>\n",
              "      <td>False</td>\n",
              "      <td>False</td>\n",
              "      <td>False</td>\n",
              "      <td>False</td>\n",
              "      <td>False</td>\n",
              "      <td>False</td>\n",
              "      <td>...</td>\n",
              "      <td>False</td>\n",
              "      <td>False</td>\n",
              "      <td>False</td>\n",
              "      <td>False</td>\n",
              "      <td>False</td>\n",
              "      <td>False</td>\n",
              "      <td>False</td>\n",
              "      <td>False</td>\n",
              "      <td>False</td>\n",
              "      <td>False</td>\n",
              "      <td>False</td>\n",
              "      <td>False</td>\n",
              "      <td>False</td>\n",
              "      <td>False</td>\n",
              "      <td>False</td>\n",
              "      <td>False</td>\n",
              "      <td>False</td>\n",
              "      <td>False</td>\n",
              "      <td>False</td>\n",
              "      <td>False</td>\n",
              "      <td>False</td>\n",
              "      <td>False</td>\n",
              "      <td>False</td>\n",
              "      <td>False</td>\n",
              "      <td>False</td>\n",
              "      <td>False</td>\n",
              "      <td>False</td>\n",
              "      <td>False</td>\n",
              "      <td>False</td>\n",
              "      <td>False</td>\n",
              "      <td>False</td>\n",
              "      <td>False</td>\n",
              "      <td>False</td>\n",
              "      <td>False</td>\n",
              "      <td>False</td>\n",
              "      <td>False</td>\n",
              "      <td>False</td>\n",
              "      <td>True</td>\n",
              "      <td>False</td>\n",
              "      <td>False</td>\n",
              "    </tr>\n",
              "    <tr>\n",
              "      <th>3</th>\n",
              "      <td>False</td>\n",
              "      <td>False</td>\n",
              "      <td>False</td>\n",
              "      <td>False</td>\n",
              "      <td>False</td>\n",
              "      <td>False</td>\n",
              "      <td>False</td>\n",
              "      <td>False</td>\n",
              "      <td>False</td>\n",
              "      <td>False</td>\n",
              "      <td>False</td>\n",
              "      <td>False</td>\n",
              "      <td>False</td>\n",
              "      <td>False</td>\n",
              "      <td>False</td>\n",
              "      <td>False</td>\n",
              "      <td>False</td>\n",
              "      <td>False</td>\n",
              "      <td>False</td>\n",
              "      <td>False</td>\n",
              "      <td>False</td>\n",
              "      <td>False</td>\n",
              "      <td>False</td>\n",
              "      <td>False</td>\n",
              "      <td>False</td>\n",
              "      <td>False</td>\n",
              "      <td>False</td>\n",
              "      <td>False</td>\n",
              "      <td>False</td>\n",
              "      <td>False</td>\n",
              "      <td>False</td>\n",
              "      <td>False</td>\n",
              "      <td>False</td>\n",
              "      <td>False</td>\n",
              "      <td>False</td>\n",
              "      <td>False</td>\n",
              "      <td>False</td>\n",
              "      <td>False</td>\n",
              "      <td>False</td>\n",
              "      <td>False</td>\n",
              "      <td>...</td>\n",
              "      <td>False</td>\n",
              "      <td>False</td>\n",
              "      <td>False</td>\n",
              "      <td>False</td>\n",
              "      <td>False</td>\n",
              "      <td>False</td>\n",
              "      <td>False</td>\n",
              "      <td>False</td>\n",
              "      <td>False</td>\n",
              "      <td>False</td>\n",
              "      <td>False</td>\n",
              "      <td>False</td>\n",
              "      <td>False</td>\n",
              "      <td>False</td>\n",
              "      <td>False</td>\n",
              "      <td>False</td>\n",
              "      <td>False</td>\n",
              "      <td>False</td>\n",
              "      <td>False</td>\n",
              "      <td>False</td>\n",
              "      <td>False</td>\n",
              "      <td>False</td>\n",
              "      <td>False</td>\n",
              "      <td>False</td>\n",
              "      <td>False</td>\n",
              "      <td>False</td>\n",
              "      <td>False</td>\n",
              "      <td>False</td>\n",
              "      <td>False</td>\n",
              "      <td>False</td>\n",
              "      <td>False</td>\n",
              "      <td>False</td>\n",
              "      <td>False</td>\n",
              "      <td>False</td>\n",
              "      <td>False</td>\n",
              "      <td>False</td>\n",
              "      <td>False</td>\n",
              "      <td>False</td>\n",
              "      <td>True</td>\n",
              "      <td>False</td>\n",
              "    </tr>\n",
              "    <tr>\n",
              "      <th>4</th>\n",
              "      <td>False</td>\n",
              "      <td>False</td>\n",
              "      <td>False</td>\n",
              "      <td>False</td>\n",
              "      <td>False</td>\n",
              "      <td>False</td>\n",
              "      <td>False</td>\n",
              "      <td>False</td>\n",
              "      <td>False</td>\n",
              "      <td>False</td>\n",
              "      <td>False</td>\n",
              "      <td>False</td>\n",
              "      <td>False</td>\n",
              "      <td>False</td>\n",
              "      <td>False</td>\n",
              "      <td>False</td>\n",
              "      <td>False</td>\n",
              "      <td>False</td>\n",
              "      <td>False</td>\n",
              "      <td>False</td>\n",
              "      <td>False</td>\n",
              "      <td>False</td>\n",
              "      <td>False</td>\n",
              "      <td>False</td>\n",
              "      <td>False</td>\n",
              "      <td>False</td>\n",
              "      <td>False</td>\n",
              "      <td>False</td>\n",
              "      <td>False</td>\n",
              "      <td>False</td>\n",
              "      <td>False</td>\n",
              "      <td>False</td>\n",
              "      <td>False</td>\n",
              "      <td>False</td>\n",
              "      <td>False</td>\n",
              "      <td>False</td>\n",
              "      <td>True</td>\n",
              "      <td>False</td>\n",
              "      <td>False</td>\n",
              "      <td>False</td>\n",
              "      <td>...</td>\n",
              "      <td>False</td>\n",
              "      <td>False</td>\n",
              "      <td>False</td>\n",
              "      <td>False</td>\n",
              "      <td>False</td>\n",
              "      <td>False</td>\n",
              "      <td>False</td>\n",
              "      <td>False</td>\n",
              "      <td>False</td>\n",
              "      <td>False</td>\n",
              "      <td>False</td>\n",
              "      <td>False</td>\n",
              "      <td>False</td>\n",
              "      <td>False</td>\n",
              "      <td>False</td>\n",
              "      <td>False</td>\n",
              "      <td>False</td>\n",
              "      <td>False</td>\n",
              "      <td>False</td>\n",
              "      <td>False</td>\n",
              "      <td>False</td>\n",
              "      <td>False</td>\n",
              "      <td>False</td>\n",
              "      <td>False</td>\n",
              "      <td>False</td>\n",
              "      <td>False</td>\n",
              "      <td>False</td>\n",
              "      <td>False</td>\n",
              "      <td>False</td>\n",
              "      <td>False</td>\n",
              "      <td>False</td>\n",
              "      <td>False</td>\n",
              "      <td>False</td>\n",
              "      <td>False</td>\n",
              "      <td>False</td>\n",
              "      <td>False</td>\n",
              "      <td>False</td>\n",
              "      <td>True</td>\n",
              "      <td>False</td>\n",
              "      <td>False</td>\n",
              "    </tr>\n",
              "  </tbody>\n",
              "</table>\n",
              "<p>5 rows × 169 columns</p>\n",
              "</div>"
            ],
            "text/plain": [
              "   Instant food products  UHT-milk  ...  yogurt  zwieback\n",
              "0                  False     False  ...   False     False\n",
              "1                  False     False  ...    True     False\n",
              "2                  False     False  ...   False     False\n",
              "3                  False     False  ...    True     False\n",
              "4                  False     False  ...   False     False\n",
              "\n",
              "[5 rows x 169 columns]"
            ]
          },
          "metadata": {
            "tags": []
          },
          "execution_count": 87
        }
      ]
    },
    {
      "cell_type": "markdown",
      "metadata": {
        "id": "3BfCSj6OOBlJ"
      },
      "source": [
        "Importando o Apriori "
      ]
    },
    {
      "cell_type": "code",
      "metadata": {
        "id": "r-QBqEgyNmuc"
      },
      "source": [
        "from mlxtend.frequent_patterns import apriori"
      ],
      "execution_count": 88,
      "outputs": []
    },
    {
      "cell_type": "markdown",
      "metadata": {
        "id": "SMsc2KvIR6vS"
      },
      "source": [
        "Produtos com suporte mínimo maior que 0.01"
      ]
    },
    {
      "cell_type": "code",
      "metadata": {
        "id": "k-ZywofrOFnF"
      },
      "source": [
        "frequents_itemsets =  apriori(df_sales, min_support = 0.01, use_colnames = True)"
      ],
      "execution_count": 99,
      "outputs": []
    },
    {
      "cell_type": "code",
      "metadata": {
        "colab": {
          "base_uri": "https://localhost:8080/",
          "height": 419
        },
        "id": "Guf3q9mwSM5E",
        "outputId": "e92270f9-a043-40a7-c169-2dfa2edd71fd"
      },
      "source": [
        "frequents_itemsets.sort_values(by = ['support'], ascending = False)"
      ],
      "execution_count": 100,
      "outputs": [
        {
          "output_type": "execute_result",
          "data": {
            "text/html": [
              "<div>\n",
              "<style scoped>\n",
              "    .dataframe tbody tr th:only-of-type {\n",
              "        vertical-align: middle;\n",
              "    }\n",
              "\n",
              "    .dataframe tbody tr th {\n",
              "        vertical-align: top;\n",
              "    }\n",
              "\n",
              "    .dataframe thead th {\n",
              "        text-align: right;\n",
              "    }\n",
              "</style>\n",
              "<table border=\"1\" class=\"dataframe\">\n",
              "  <thead>\n",
              "    <tr style=\"text-align: right;\">\n",
              "      <th></th>\n",
              "      <th>support</th>\n",
              "      <th>itemsets</th>\n",
              "    </tr>\n",
              "  </thead>\n",
              "  <tbody>\n",
              "    <tr>\n",
              "      <th>86</th>\n",
              "      <td>0.255516</td>\n",
              "      <td>(whole milk)</td>\n",
              "    </tr>\n",
              "    <tr>\n",
              "      <th>55</th>\n",
              "      <td>0.193493</td>\n",
              "      <td>(other vegetables)</td>\n",
              "    </tr>\n",
              "    <tr>\n",
              "      <th>66</th>\n",
              "      <td>0.183935</td>\n",
              "      <td>(rolls/buns)</td>\n",
              "    </tr>\n",
              "    <tr>\n",
              "      <th>75</th>\n",
              "      <td>0.174377</td>\n",
              "      <td>(soda)</td>\n",
              "    </tr>\n",
              "    <tr>\n",
              "      <th>87</th>\n",
              "      <td>0.139502</td>\n",
              "      <td>(yogurt)</td>\n",
              "    </tr>\n",
              "    <tr>\n",
              "      <th>...</th>\n",
              "      <td>...</td>\n",
              "      <td>...</td>\n",
              "    </tr>\n",
              "    <tr>\n",
              "      <th>178</th>\n",
              "      <td>0.010066</td>\n",
              "      <td>(sausage, frankfurter)</td>\n",
              "    </tr>\n",
              "    <tr>\n",
              "      <th>306</th>\n",
              "      <td>0.010066</td>\n",
              "      <td>(whole milk, yogurt, curd)</td>\n",
              "    </tr>\n",
              "    <tr>\n",
              "      <th>160</th>\n",
              "      <td>0.010066</td>\n",
              "      <td>(rolls/buns, curd)</td>\n",
              "    </tr>\n",
              "    <tr>\n",
              "      <th>212</th>\n",
              "      <td>0.010066</td>\n",
              "      <td>(napkins, tropical fruit)</td>\n",
              "    </tr>\n",
              "    <tr>\n",
              "      <th>199</th>\n",
              "      <td>0.010066</td>\n",
              "      <td>(hard cheese, whole milk)</td>\n",
              "    </tr>\n",
              "  </tbody>\n",
              "</table>\n",
              "<p>333 rows × 2 columns</p>\n",
              "</div>"
            ],
            "text/plain": [
              "      support                    itemsets\n",
              "86   0.255516                (whole milk)\n",
              "55   0.193493          (other vegetables)\n",
              "66   0.183935                (rolls/buns)\n",
              "75   0.174377                      (soda)\n",
              "87   0.139502                    (yogurt)\n",
              "..        ...                         ...\n",
              "178  0.010066      (sausage, frankfurter)\n",
              "306  0.010066  (whole milk, yogurt, curd)\n",
              "160  0.010066          (rolls/buns, curd)\n",
              "212  0.010066   (napkins, tropical fruit)\n",
              "199  0.010066   (hard cheese, whole milk)\n",
              "\n",
              "[333 rows x 2 columns]"
            ]
          },
          "metadata": {
            "tags": []
          },
          "execution_count": 100
        }
      ]
    },
    {
      "cell_type": "markdown",
      "metadata": {
        "id": "s01XSNCmUAqZ"
      },
      "source": [
        "Importando as regras de associação"
      ]
    },
    {
      "cell_type": "code",
      "metadata": {
        "id": "erb4wz2ST9zc"
      },
      "source": [
        "from mlxtend.frequent_patterns import association_rules"
      ],
      "execution_count": 101,
      "outputs": []
    },
    {
      "cell_type": "markdown",
      "metadata": {
        "id": "Z7mM3A4AVGOt"
      },
      "source": [
        "Exemplo de leitura dos dados a seguir: com o lift acima de 1, 58% das pessoas que compraram citrus fruit and root vegetables compraram other vegetables"
      ]
    },
    {
      "cell_type": "code",
      "metadata": {
        "colab": {
          "base_uri": "https://localhost:8080/",
          "height": 514
        },
        "id": "DRnDAEdDUcqp",
        "outputId": "ca782d8d-241b-49d2-e09f-f77c0ff65a52"
      },
      "source": [
        "rules = association_rules(frequents_itemsets, metric = 'confidence', min_threshold = 0.5)\r\n",
        "rules.sort_values(by = ['lift'], ascending = False)"
      ],
      "execution_count": 103,
      "outputs": [
        {
          "output_type": "execute_result",
          "data": {
            "text/html": [
              "<div>\n",
              "<style scoped>\n",
              "    .dataframe tbody tr th:only-of-type {\n",
              "        vertical-align: middle;\n",
              "    }\n",
              "\n",
              "    .dataframe tbody tr th {\n",
              "        vertical-align: top;\n",
              "    }\n",
              "\n",
              "    .dataframe thead th {\n",
              "        text-align: right;\n",
              "    }\n",
              "</style>\n",
              "<table border=\"1\" class=\"dataframe\">\n",
              "  <thead>\n",
              "    <tr style=\"text-align: right;\">\n",
              "      <th></th>\n",
              "      <th>antecedents</th>\n",
              "      <th>consequents</th>\n",
              "      <th>antecedent support</th>\n",
              "      <th>consequent support</th>\n",
              "      <th>support</th>\n",
              "      <th>confidence</th>\n",
              "      <th>lift</th>\n",
              "      <th>leverage</th>\n",
              "      <th>conviction</th>\n",
              "    </tr>\n",
              "  </thead>\n",
              "  <tbody>\n",
              "    <tr>\n",
              "      <th>1</th>\n",
              "      <td>(citrus fruit, root vegetables)</td>\n",
              "      <td>(other vegetables)</td>\n",
              "      <td>0.017692</td>\n",
              "      <td>0.193493</td>\n",
              "      <td>0.010371</td>\n",
              "      <td>0.586207</td>\n",
              "      <td>3.029608</td>\n",
              "      <td>0.006948</td>\n",
              "      <td>1.949059</td>\n",
              "    </tr>\n",
              "    <tr>\n",
              "      <th>6</th>\n",
              "      <td>(root vegetables, tropical fruit)</td>\n",
              "      <td>(other vegetables)</td>\n",
              "      <td>0.021047</td>\n",
              "      <td>0.193493</td>\n",
              "      <td>0.012303</td>\n",
              "      <td>0.584541</td>\n",
              "      <td>3.020999</td>\n",
              "      <td>0.008231</td>\n",
              "      <td>1.941244</td>\n",
              "    </tr>\n",
              "    <tr>\n",
              "      <th>5</th>\n",
              "      <td>(rolls/buns, root vegetables)</td>\n",
              "      <td>(other vegetables)</td>\n",
              "      <td>0.024301</td>\n",
              "      <td>0.193493</td>\n",
              "      <td>0.012201</td>\n",
              "      <td>0.502092</td>\n",
              "      <td>2.594890</td>\n",
              "      <td>0.007499</td>\n",
              "      <td>1.619792</td>\n",
              "    </tr>\n",
              "    <tr>\n",
              "      <th>7</th>\n",
              "      <td>(yogurt, root vegetables)</td>\n",
              "      <td>(other vegetables)</td>\n",
              "      <td>0.025826</td>\n",
              "      <td>0.193493</td>\n",
              "      <td>0.012913</td>\n",
              "      <td>0.500000</td>\n",
              "      <td>2.584078</td>\n",
              "      <td>0.007916</td>\n",
              "      <td>1.613015</td>\n",
              "    </tr>\n",
              "    <tr>\n",
              "      <th>2</th>\n",
              "      <td>(curd, yogurt)</td>\n",
              "      <td>(whole milk)</td>\n",
              "      <td>0.017285</td>\n",
              "      <td>0.255516</td>\n",
              "      <td>0.010066</td>\n",
              "      <td>0.582353</td>\n",
              "      <td>2.279125</td>\n",
              "      <td>0.005649</td>\n",
              "      <td>1.782567</td>\n",
              "    </tr>\n",
              "    <tr>\n",
              "      <th>0</th>\n",
              "      <td>(butter, other vegetables)</td>\n",
              "      <td>(whole milk)</td>\n",
              "      <td>0.020031</td>\n",
              "      <td>0.255516</td>\n",
              "      <td>0.011490</td>\n",
              "      <td>0.573604</td>\n",
              "      <td>2.244885</td>\n",
              "      <td>0.006371</td>\n",
              "      <td>1.745992</td>\n",
              "    </tr>\n",
              "    <tr>\n",
              "      <th>11</th>\n",
              "      <td>(root vegetables, tropical fruit)</td>\n",
              "      <td>(whole milk)</td>\n",
              "      <td>0.021047</td>\n",
              "      <td>0.255516</td>\n",
              "      <td>0.011998</td>\n",
              "      <td>0.570048</td>\n",
              "      <td>2.230969</td>\n",
              "      <td>0.006620</td>\n",
              "      <td>1.731553</td>\n",
              "    </tr>\n",
              "    <tr>\n",
              "      <th>12</th>\n",
              "      <td>(root vegetables, yogurt)</td>\n",
              "      <td>(whole milk)</td>\n",
              "      <td>0.025826</td>\n",
              "      <td>0.255516</td>\n",
              "      <td>0.014540</td>\n",
              "      <td>0.562992</td>\n",
              "      <td>2.203354</td>\n",
              "      <td>0.007941</td>\n",
              "      <td>1.703594</td>\n",
              "    </tr>\n",
              "    <tr>\n",
              "      <th>3</th>\n",
              "      <td>(domestic eggs, other vegetables)</td>\n",
              "      <td>(whole milk)</td>\n",
              "      <td>0.022267</td>\n",
              "      <td>0.255516</td>\n",
              "      <td>0.012303</td>\n",
              "      <td>0.552511</td>\n",
              "      <td>2.162336</td>\n",
              "      <td>0.006613</td>\n",
              "      <td>1.663694</td>\n",
              "    </tr>\n",
              "    <tr>\n",
              "      <th>14</th>\n",
              "      <td>(whipped/sour cream, yogurt)</td>\n",
              "      <td>(whole milk)</td>\n",
              "      <td>0.020742</td>\n",
              "      <td>0.255516</td>\n",
              "      <td>0.010880</td>\n",
              "      <td>0.524510</td>\n",
              "      <td>2.052747</td>\n",
              "      <td>0.005580</td>\n",
              "      <td>1.565719</td>\n",
              "    </tr>\n",
              "    <tr>\n",
              "      <th>10</th>\n",
              "      <td>(rolls/buns, root vegetables)</td>\n",
              "      <td>(whole milk)</td>\n",
              "      <td>0.024301</td>\n",
              "      <td>0.255516</td>\n",
              "      <td>0.012710</td>\n",
              "      <td>0.523013</td>\n",
              "      <td>2.046888</td>\n",
              "      <td>0.006500</td>\n",
              "      <td>1.560804</td>\n",
              "    </tr>\n",
              "    <tr>\n",
              "      <th>4</th>\n",
              "      <td>(pip fruit, other vegetables)</td>\n",
              "      <td>(whole milk)</td>\n",
              "      <td>0.026131</td>\n",
              "      <td>0.255516</td>\n",
              "      <td>0.013523</td>\n",
              "      <td>0.517510</td>\n",
              "      <td>2.025351</td>\n",
              "      <td>0.006846</td>\n",
              "      <td>1.543003</td>\n",
              "    </tr>\n",
              "    <tr>\n",
              "      <th>13</th>\n",
              "      <td>(tropical fruit, yogurt)</td>\n",
              "      <td>(whole milk)</td>\n",
              "      <td>0.029283</td>\n",
              "      <td>0.255516</td>\n",
              "      <td>0.015150</td>\n",
              "      <td>0.517361</td>\n",
              "      <td>2.024770</td>\n",
              "      <td>0.007668</td>\n",
              "      <td>1.542528</td>\n",
              "    </tr>\n",
              "    <tr>\n",
              "      <th>9</th>\n",
              "      <td>(yogurt, other vegetables)</td>\n",
              "      <td>(whole milk)</td>\n",
              "      <td>0.043416</td>\n",
              "      <td>0.255516</td>\n",
              "      <td>0.022267</td>\n",
              "      <td>0.512881</td>\n",
              "      <td>2.007235</td>\n",
              "      <td>0.011174</td>\n",
              "      <td>1.528340</td>\n",
              "    </tr>\n",
              "    <tr>\n",
              "      <th>8</th>\n",
              "      <td>(whipped/sour cream, other vegetables)</td>\n",
              "      <td>(whole milk)</td>\n",
              "      <td>0.028876</td>\n",
              "      <td>0.255516</td>\n",
              "      <td>0.014642</td>\n",
              "      <td>0.507042</td>\n",
              "      <td>1.984385</td>\n",
              "      <td>0.007263</td>\n",
              "      <td>1.510239</td>\n",
              "    </tr>\n",
              "  </tbody>\n",
              "</table>\n",
              "</div>"
            ],
            "text/plain": [
              "                               antecedents  ... conviction\n",
              "1          (citrus fruit, root vegetables)  ...   1.949059\n",
              "6        (root vegetables, tropical fruit)  ...   1.941244\n",
              "5            (rolls/buns, root vegetables)  ...   1.619792\n",
              "7                (yogurt, root vegetables)  ...   1.613015\n",
              "2                           (curd, yogurt)  ...   1.782567\n",
              "0               (butter, other vegetables)  ...   1.745992\n",
              "11       (root vegetables, tropical fruit)  ...   1.731553\n",
              "12               (root vegetables, yogurt)  ...   1.703594\n",
              "3        (domestic eggs, other vegetables)  ...   1.663694\n",
              "14            (whipped/sour cream, yogurt)  ...   1.565719\n",
              "10           (rolls/buns, root vegetables)  ...   1.560804\n",
              "4            (pip fruit, other vegetables)  ...   1.543003\n",
              "13                (tropical fruit, yogurt)  ...   1.542528\n",
              "9               (yogurt, other vegetables)  ...   1.528340\n",
              "8   (whipped/sour cream, other vegetables)  ...   1.510239\n",
              "\n",
              "[15 rows x 9 columns]"
            ]
          },
          "metadata": {
            "tags": []
          },
          "execution_count": 103
        }
      ]
    },
    {
      "cell_type": "markdown",
      "metadata": {
        "id": "amuQVjh5VqBS"
      },
      "source": [
        "Ao final desse notebook, vemos a utilidade do Apriori e das Regras de Associação que se tornam excelentes estratégias de vendas de produtos, já que você pode passar a agrupar produtos que saem muito juntos, mais perto, assim aumentando o número de vendas, ou até mesmo descobrindo combinações que não se esperava."
      ]
    }
  ]
}